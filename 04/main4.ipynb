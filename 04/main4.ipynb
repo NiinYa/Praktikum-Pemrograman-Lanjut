{
  "nbformat": 4,
  "nbformat_minor": 0,
  "metadata": {
    "colab": {
      "provenance": []
    },
    "kernelspec": {
      "name": "python3",
      "display_name": "Python 3"
    },
    "language_info": {
      "name": "python"
    }
  },
  "cells": [
    {
      "cell_type": "code",
      "execution_count": 2,
      "metadata": {
        "colab": {
          "base_uri": "https://localhost:8080/"
        },
        "id": "mIv2prgC0lYy",
        "outputId": "c6a53515-c960-4fc5-c320-d0f6ad307aa2"
      },
      "outputs": [
        {
          "output_type": "execute_result",
          "data": {
            "text/plain": [
              "[0, 1, 2, 3, 4, 5, 6, 7, 8, 9]"
            ]
          },
          "metadata": {},
          "execution_count": 2
        }
      ],
      "source": [
        "list(range(10))"
      ]
    },
    {
      "cell_type": "code",
      "source": [
        "for i in range(5, 11, 2):\n",
        "  print(i)"
      ],
      "metadata": {
        "colab": {
          "base_uri": "https://localhost:8080/"
        },
        "id": "A_FqatL40pPC",
        "outputId": "2d6e4d16-eb10-4c2a-e450-a89011154ff3"
      },
      "execution_count": 5,
      "outputs": [
        {
          "output_type": "stream",
          "name": "stdout",
          "text": [
            "5\n",
            "7\n",
            "9\n"
          ]
        }
      ]
    },
    {
      "cell_type": "code",
      "source": [
        "x = \"string\"\n",
        "\n",
        "for i in x:\n",
        "  if i == \"r\":\n",
        "    break\n",
        "  print(i)"
      ],
      "metadata": {
        "colab": {
          "base_uri": "https://localhost:8080/"
        },
        "id": "vEO8-qql0x1o",
        "outputId": "d7d50293-1f2c-4d46-f301-f6f380695bc2"
      },
      "execution_count": 11,
      "outputs": [
        {
          "output_type": "stream",
          "name": "stdout",
          "text": [
            "s\n",
            "t\n"
          ]
        }
      ]
    },
    {
      "cell_type": "code",
      "source": [
        "nama = \"Zara\"\n",
        "umur = 21\n",
        "\n",
        "\"My name is %s, %d yrs old\" % (nama, umur) "
      ],
      "metadata": {
        "colab": {
          "base_uri": "https://localhost:8080/",
          "height": 37
        },
        "id": "a-UAavXr091d",
        "outputId": "15f3f6aa-51c4-4f8b-9d90-7622244f2e2c"
      },
      "execution_count": 12,
      "outputs": [
        {
          "output_type": "execute_result",
          "data": {
            "text/plain": [
              "'My name is Zara, 21 yrs old'"
            ],
            "application/vnd.google.colaboratory.intrinsic+json": {
              "type": "string"
            }
          },
          "metadata": {},
          "execution_count": 12
        }
      ]
    },
    {
      "cell_type": "code",
      "source": [
        "\"{1} {0}\".format(nama, umur)"
      ],
      "metadata": {
        "colab": {
          "base_uri": "https://localhost:8080/",
          "height": 37
        },
        "id": "r3zjIP3r2-Wm",
        "outputId": "9a3fd240-2865-49c4-ffb4-e8f64a073a78"
      },
      "execution_count": 14,
      "outputs": [
        {
          "output_type": "execute_result",
          "data": {
            "text/plain": [
              "'21 Zara'"
            ],
            "application/vnd.google.colaboratory.intrinsic+json": {
              "type": "string"
            }
          },
          "metadata": {},
          "execution_count": 14
        }
      ]
    },
    {
      "cell_type": "code",
      "source": [
        "f\"{umur} {nama}\""
      ],
      "metadata": {
        "colab": {
          "base_uri": "https://localhost:8080/",
          "height": 37
        },
        "id": "JLt0o0rh3EOl",
        "outputId": "2998a085-088d-4464-b2c3-4886d6388a54"
      },
      "execution_count": 15,
      "outputs": [
        {
          "output_type": "execute_result",
          "data": {
            "text/plain": [
              "'21 Zara'"
            ],
            "application/vnd.google.colaboratory.intrinsic+json": {
              "type": "string"
            }
          },
          "metadata": {},
          "execution_count": 15
        }
      ]
    },
    {
      "cell_type": "code",
      "source": [
        "print(bin(10)[2:])"
      ],
      "metadata": {
        "colab": {
          "base_uri": "https://localhost:8080/"
        },
        "id": "wZ5RDZVd3NW6",
        "outputId": "98bd403c-7811-4214-bf33-2276cb89fd7d"
      },
      "execution_count": 29,
      "outputs": [
        {
          "output_type": "stream",
          "name": "stdout",
          "text": [
            "1010\n"
          ]
        }
      ]
    },
    {
      "cell_type": "code",
      "source": [
        "oct(10)[2:]"
      ],
      "metadata": {
        "colab": {
          "base_uri": "https://localhost:8080/",
          "height": 37
        },
        "id": "W7jqfaE74HJP",
        "outputId": "0b62c83d-0cac-4bf1-8038-7260132b8a14"
      },
      "execution_count": 18,
      "outputs": [
        {
          "output_type": "execute_result",
          "data": {
            "text/plain": [
              "'12'"
            ],
            "application/vnd.google.colaboratory.intrinsic+json": {
              "type": "string"
            }
          },
          "metadata": {},
          "execution_count": 18
        }
      ]
    },
    {
      "cell_type": "code",
      "source": [
        "hex(10)[2:]"
      ],
      "metadata": {
        "colab": {
          "base_uri": "https://localhost:8080/",
          "height": 37
        },
        "id": "REPqFjGP4N9V",
        "outputId": "a24429a7-a2ca-44d6-e21b-d89331335d1f"
      },
      "execution_count": 19,
      "outputs": [
        {
          "output_type": "execute_result",
          "data": {
            "text/plain": [
              "'a'"
            ],
            "application/vnd.google.colaboratory.intrinsic+json": {
              "type": "string"
            }
          },
          "metadata": {},
          "execution_count": 19
        }
      ]
    },
    {
      "cell_type": "code",
      "source": [
        "perusahaan = 'Microsoft'\n",
        "list_pulau = ['Jawa', 'Sumatra', 'Sulawesi']\n",
        "mahasiswa = {\n",
        "    'nama': 'Lendis Fabri',\n",
        "    'asal': 'Lamongan'\n",
        "}\n",
        "print(\n",
        "    \"Apakah 'c' ada di variabel perusahaan?\",\n",
        "    'c' in perusahaan\n",
        ")\n",
        "print(\n",
        "    \"Apakah 'z' tidak ada di variabel perusahaan?\",\n",
        "    'z' not in perusahaan\n",
        ")\n",
        "print(\n",
        "    \"Apakah 'Madura' ada di variabel list_pulau?\",\n",
        "    'Madura' in perusahaan\n",
        ")\n",
        "print(\n",
        "    \"Apakah 'Madura' tidak ada di variabel list_pulau?\",\n",
        "    'Madura' not in perusahaan\n",
        ")\n",
        "print(\n",
        "    \"Apakah atribut 'nama' ada di variabel mahasiswa?\",\n",
        "    'nama' in mahasiswa\n",
        ")"
      ],
      "metadata": {
        "colab": {
          "base_uri": "https://localhost:8080/"
        },
        "id": "Heo3l_O64RVA",
        "outputId": "60a67055-9202-4c88-a226-18cf496d8fef"
      },
      "execution_count": 21,
      "outputs": [
        {
          "output_type": "stream",
          "name": "stdout",
          "text": [
            "Apakah 'c' ada di variabel perusahaan? True\n",
            "Apakah 'z' tidak ada di variabel perusahaan? True\n",
            "Apakah 'Madura' ada di variabel list_pulau? False\n",
            "Apakah 'Madura' tidak ada di variabel list_pulau? True\n",
            "Apakah atribut 'nama' ada di variabel mahasiswa? True\n"
          ]
        }
      ]
    },
    {
      "cell_type": "code",
      "source": [
        "perusahaan = \"PRAKTIKUM PEMROGRAMAN LANJUT\"\n",
        "list_jurusan = ['Teknik Komputer',\n",
        "                'Teknik Informatika', 'Magister Ilmu Komputer']\n",
        "\n",
        "mahasiswa = {\n",
        "    'nama': 'Asep Ranta Munajat',\n",
        "    'asal': 'Bekasi'\n",
        "}\n",
        "\n",
        "print(perusahaan[5])\n",
        "# print(list_jurusan[7])\n",
        "print(perusahaan[-1])\n",
        "print(list_jurusan[-3])"
      ],
      "metadata": {
        "colab": {
          "base_uri": "https://localhost:8080/"
        },
        "id": "LpzWIAns4rID",
        "outputId": "fd0aef81-6ef7-4c6b-e645-cdf9490d4b9c"
      },
      "execution_count": 23,
      "outputs": [
        {
          "output_type": "stream",
          "name": "stdout",
          "text": [
            "I\n",
            "T\n",
            "Teknik Komputer\n"
          ]
        }
      ]
    },
    {
      "cell_type": "code",
      "source": [
        "perusahaan = \"PRAKTIKUM PEMROGRAMAN LANJUT\"\n",
        "list_jurusan = ['Teknik Komputer',\n",
        "                'Teknik Informatika', 'Magister Ilmu Komputer']\n",
        "\n",
        "mahasiswa = {\n",
        "    'nama': 'Asep Ranta Munajat',\n",
        "    'asal': 'Bekasi'\n",
        "}\n",
        "\n",
        "print(perusahaan[5:20])\n",
        "print(list_jurusan[7:15])\n",
        "print(perusahaan[-1:-10])\n",
        "print(list_jurusan[-3:-1])"
      ],
      "metadata": {
        "colab": {
          "base_uri": "https://localhost:8080/"
        },
        "id": "mklcR_705UTA",
        "outputId": "e896732a-fa5f-4d2e-f552-fb5bdec5989a"
      },
      "execution_count": 24,
      "outputs": [
        {
          "output_type": "stream",
          "name": "stdout",
          "text": [
            "IKUM PEMROGRAMA\n",
            "[]\n",
            "\n",
            "['Teknik Komputer', 'Teknik Informatika']\n"
          ]
        }
      ]
    },
    {
      "cell_type": "code",
      "source": [],
      "metadata": {
        "id": "eVjCi6Pa5vOb"
      },
      "execution_count": null,
      "outputs": []
    }
  ]
}