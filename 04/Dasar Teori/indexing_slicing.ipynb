{
 "cells": [
  {
   "cell_type": "code",
   "execution_count": 1,
   "metadata": {},
   "outputs": [
    {
     "name": "stdout",
     "output_type": "stream",
     "text": [
      "i\n",
      "F\n",
      "i\n",
      "b\n"
     ]
    }
   ],
   "source": [
    "nama = \"Lendis Fabri\"\n",
    "\n",
    "print(nama[4])\n",
    "print(nama[7])\n",
    "print(nama[-1])\n",
    "print(nama[-3])"
   ]
  },
  {
   "cell_type": "code",
   "execution_count": 6,
   "metadata": {},
   "outputs": [
    {
     "name": "stdout",
     "output_type": "stream",
     "text": [
      "Pelaj\n",
      "Pelajaran \n",
      "Matem\n",
      "\n",
      "Pelajaran Matematika Untuk\n",
      "uk SD\n"
     ]
    }
   ],
   "source": [
    "judul = \"Pelajaran Matematika Untuk SD\"\n",
    "\n",
    "print(judul[0:5])\n",
    "print(judul[:10])\n",
    "print(judul[10:15])\n",
    "print(judul[-1:-3])\n",
    "print(judul[:-3])\n",
    "print(judul[-5:])"
   ]
  },
  {
   "cell_type": "code",
   "execution_count": null,
   "metadata": {},
   "outputs": [],
   "source": []
  }
 ],
 "metadata": {
  "kernelspec": {
   "display_name": "Python 3.10.4 64-bit",
   "language": "python",
   "name": "python3"
  },
  "language_info": {
   "codemirror_mode": {
    "name": "ipython",
    "version": 3
   },
   "file_extension": ".py",
   "mimetype": "text/x-python",
   "name": "python",
   "nbconvert_exporter": "python",
   "pygments_lexer": "ipython3",
   "version": "3.10.6"
  },
  "orig_nbformat": 4,
  "vscode": {
   "interpreter": {
    "hash": "44a9cdcbdccbf05a880e90d2e6fe72470baab4d1b82472d890be0596ed887a6b"
   }
  }
 },
 "nbformat": 4,
 "nbformat_minor": 2
}
